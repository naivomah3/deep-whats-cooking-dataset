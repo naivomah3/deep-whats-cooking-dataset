{
 "cells": [
  {
   "cell_type": "markdown",
   "metadata": {},
   "source": [
    "## Neural-Net for Tabular data\n",
    "### <u>Problem statement 2:</u> \n",
    "There are a set of categorical variable. They can be encoded in NN within `Embedding Layer`. This later encodes each categorical value to a fixed size vector then concatenated with the remaining numerical variables. Here the rule of thumb of setting the size of embedding layer has been applied. "
   ]
  },
  {
   "cell_type": "code",
   "execution_count": 1,
   "metadata": {},
   "outputs": [],
   "source": [
    "from sklearn.datasets import make_classification"
   ]
  },
  {
   "cell_type": "code",
   "execution_count": 32,
   "metadata": {},
   "outputs": [
    {
     "data": {
      "text/plain": [
       "(array([[-0.63,  1.38, -1.08, ...,  1.41,  0.11, -1.3 ],\n",
       "        [ 0.58, -2.3 ,  0.5 , ...,  0.36,  0.93, -0.55],\n",
       "        [-1.31,  1.87,  2.65, ...,  2.02,  0.81,  0.81],\n",
       "        ...,\n",
       "        [ 0.09,  1.09, -4.18, ..., -0.73, -0.03, -0.15],\n",
       "        [ 0.69,  4.16, -0.31, ..., -1.67, -0.3 , -0.35],\n",
       "        [-0.09, -4.48, -0.11, ...,  0.84, -1.28, -0.37]]),\n",
       " array([0, 1, 1, ..., 0, 0, 1]))"
      ]
     },
     "execution_count": 32,
     "metadata": {},
     "output_type": "execute_result"
    }
   ],
   "source": [
    "# Binary Classification Dataset \n",
    "# 20: Numerical; 5: Categorical \n",
    "dataset = make_classification(n_samples=10_000, \n",
    "                              n_features=25, \n",
    "                              n_classes=2,\n",
    "                              n_informative=10)\n",
    "X, y = dataset\n",
    "X, y"
   ]
  },
  {
   "cell_type": "code",
   "execution_count": 33,
   "metadata": {},
   "outputs": [],
   "source": [
    "import pandas as pd \n",
    "import numpy as np \n",
    "np.set_printoptions(precision=2, suppress=True)"
   ]
  },
  {
   "cell_type": "code",
   "execution_count": 34,
   "metadata": {},
   "outputs": [],
   "source": [
    "no_category = 100\n",
    "\n",
    "for col_id in range(5):\n",
    "    X[:, col_id] = pd.cut(X[:, col_id], no_category, labels=False)\n"
   ]
  },
  {
   "cell_type": "code",
   "execution_count": 35,
   "metadata": {},
   "outputs": [],
   "source": [
    "X_cat = X[:, :5]\n",
    "X_num = X[:, 5:]"
   ]
  },
  {
   "cell_type": "code",
   "execution_count": 36,
   "metadata": {},
   "outputs": [],
   "source": [
    "from sklearn.preprocessing import StandardScaler\n",
    "\n",
    "scaler = StandardScaler()\n",
    "X_num_scaled = scaler.fit_transform(X_num)"
   ]
  },
  {
   "cell_type": "code",
   "execution_count": 37,
   "metadata": {},
   "outputs": [],
   "source": [
    "from tensorflow.keras.layers import (Input, Dropout, Dense, \n",
    "                                     BatchNormalization, Embedding, \n",
    "                                     Flatten, Concatenate\n",
    "                                    )\n",
    "from tensorflow.keras.models import Model\n",
    "\n",
    "# Dropout probability \n",
    "p = .1\n",
    "batch_size = 32"
   ]
  },
  {
   "cell_type": "markdown",
   "metadata": {},
   "source": [
    "#### __*Separate Inputs as Numerical and Categorical:*__\n",
    "- *Categorical* input is first fed into **Embedding Layer** to learn the Vector representation of each category"
   ]
  },
  {
   "cell_type": "code",
   "execution_count": null,
   "metadata": {},
   "outputs": [],
   "source": [
    "# Rule of thumb: size of embedding vector w.r.t the number of categories \n",
    "def embedding_size(no_cat):\n",
    "    return min(600, round(1.6 * no_cat**0.56))"
   ]
  },
  {
   "cell_type": "code",
   "execution_count": 38,
   "metadata": {},
   "outputs": [],
   "source": [
    "# Define Categorical & Numerical input layer \n",
    "num_inputs = Input((20,), name='num_inputs')\n",
    "cat_inputs = Input((5,), name='cat_inputs')\n",
    "\n",
    "\n",
    "# Encode the category using embedding layer\n",
    "# Embedding layer weights are trainable \n",
    "embedding_layer = Embedding(input_dim=no_category, \n",
    "                            output_dim=embedding_size(no_category),\n",
    "                            input_length=5\n",
    "                           )\n",
    "cats = embedding_layer(cat_inputs)\n",
    "cats = Flatten()(cats)\n",
    "\n",
    "\n",
    "x = Concatenate()([cats, num_inputs])\n",
    "#===== L0\n",
    "x = Dropout(p)(x)\n",
    "x = Dense(100, activation='relu')(x)\n",
    "#===== L1\n",
    "x = BatchNormalization()(x)\n",
    "x = Dropout(p)(x)\n",
    "x = Dense(20, activation='relu')(x)\n",
    "#===== L2\n",
    "x = BatchNormalization()(x)\n",
    "x = Dropout(p)(x)\n",
    "x = Dense(10, activation='relu')(x)\n",
    "#===== L3\n",
    "x = BatchNormalization()(x)\n",
    "x = Dropout(p)(x)\n",
    "#===== Output\n",
    "out = Dense(1, activation='sigmoid', name='output')(x)"
   ]
  },
  {
   "cell_type": "code",
   "execution_count": 42,
   "metadata": {},
   "outputs": [],
   "source": [
    "model = Model(\n",
    "    inputs=[num_inputs, cat_inputs], \n",
    "    outputs=out\n",
    ")\n",
    "model.compile(optimizer='rmsprop',\n",
    "             loss='binary_crossentropy', \n",
    "             metrics=['accuracy'])"
   ]
  },
  {
   "cell_type": "code",
   "execution_count": 43,
   "metadata": {},
   "outputs": [
    {
     "name": "stdout",
     "output_type": "stream",
     "text": [
      "Model: \"model_2\"\n",
      "__________________________________________________________________________________________________\n",
      "Layer (type)                    Output Shape         Param #     Connected to                     \n",
      "==================================================================================================\n",
      "cat_inputs (InputLayer)         [(None, 5)]          0                                            \n",
      "__________________________________________________________________________________________________\n",
      "embedding_2 (Embedding)         (None, 5, 21)        2100        cat_inputs[0][0]                 \n",
      "__________________________________________________________________________________________________\n",
      "flatten_2 (Flatten)             (None, 105)          0           embedding_2[0][0]                \n",
      "__________________________________________________________________________________________________\n",
      "num_inputs (InputLayer)         [(None, 20)]         0                                            \n",
      "__________________________________________________________________________________________________\n",
      "concatenate_2 (Concatenate)     (None, 125)          0           flatten_2[0][0]                  \n",
      "                                                                 num_inputs[0][0]                 \n",
      "__________________________________________________________________________________________________\n",
      "dropout_8 (Dropout)             (None, 125)          0           concatenate_2[0][0]              \n",
      "__________________________________________________________________________________________________\n",
      "dense_6 (Dense)                 (None, 100)          12600       dropout_8[0][0]                  \n",
      "__________________________________________________________________________________________________\n",
      "batch_normalization_v2_6 (Batch (None, 100)          400         dense_6[0][0]                    \n",
      "__________________________________________________________________________________________________\n",
      "dropout_9 (Dropout)             (None, 100)          0           batch_normalization_v2_6[0][0]   \n",
      "__________________________________________________________________________________________________\n",
      "dense_7 (Dense)                 (None, 20)           2020        dropout_9[0][0]                  \n",
      "__________________________________________________________________________________________________\n",
      "batch_normalization_v2_7 (Batch (None, 20)           80          dense_7[0][0]                    \n",
      "__________________________________________________________________________________________________\n",
      "dropout_10 (Dropout)            (None, 20)           0           batch_normalization_v2_7[0][0]   \n",
      "__________________________________________________________________________________________________\n",
      "dense_8 (Dense)                 (None, 10)           210         dropout_10[0][0]                 \n",
      "__________________________________________________________________________________________________\n",
      "batch_normalization_v2_8 (Batch (None, 10)           40          dense_8[0][0]                    \n",
      "__________________________________________________________________________________________________\n",
      "dropout_11 (Dropout)            (None, 10)           0           batch_normalization_v2_8[0][0]   \n",
      "__________________________________________________________________________________________________\n",
      "output (Dense)                  (None, 1)            11          dropout_11[0][0]                 \n",
      "==================================================================================================\n",
      "Total params: 17,461\n",
      "Trainable params: 17,201\n",
      "Non-trainable params: 260\n",
      "__________________________________________________________________________________________________\n"
     ]
    }
   ],
   "source": [
    "model.summary()"
   ]
  },
  {
   "cell_type": "code",
   "execution_count": 44,
   "metadata": {},
   "outputs": [],
   "source": [
    "import numpy as np \n",
    "\n",
    "def sample_generator(batch_size):\n",
    "    while True:\n",
    "        batch_idx = np.random.choice(X_num_scaled.shape[0], batch_size)\n",
    "        yield (\n",
    "            {'num_inputs': X_num_scaled[batch_idx], \n",
    "             'cat_inputs': X_cat[batch_idx]},\n",
    "            {'output': y[batch_idx]}\n",
    "        )"
   ]
  },
  {
   "cell_type": "code",
   "execution_count": 46,
   "metadata": {},
   "outputs": [
    {
     "name": "stdout",
     "output_type": "stream",
     "text": [
      "Epoch 1/20\n",
      "313/312 [==============================] - 1s 3ms/step - loss: 0.2290 - accuracy: 0.9113\n",
      "Epoch 2/20\n",
      "313/312 [==============================] - 1s 3ms/step - loss: 0.2074 - accuracy: 0.9242\n",
      "Epoch 3/20\n",
      "313/312 [==============================] - 1s 3ms/step - loss: 0.2028 - accuracy: 0.9250\n",
      "Epoch 4/20\n",
      "313/312 [==============================] - 1s 3ms/step - loss: 0.1991 - accuracy: 0.9264\n",
      "Epoch 5/20\n",
      "313/312 [==============================] - 1s 3ms/step - loss: 0.1834 - accuracy: 0.9317\n",
      "Epoch 6/20\n",
      "313/312 [==============================] - 1s 3ms/step - loss: 0.1815 - accuracy: 0.9361\n",
      "Epoch 7/20\n",
      "313/312 [==============================] - 1s 3ms/step - loss: 0.1771 - accuracy: 0.9349\n",
      "Epoch 8/20\n",
      "313/312 [==============================] - 1s 3ms/step - loss: 0.1770 - accuracy: 0.9371\n",
      "Epoch 9/20\n",
      "313/312 [==============================] - 1s 3ms/step - loss: 0.1685 - accuracy: 0.9413\n",
      "Epoch 10/20\n",
      "313/312 [==============================] - 1s 3ms/step - loss: 0.1593 - accuracy: 0.9428\n",
      "Epoch 11/20\n",
      "313/312 [==============================] - 1s 3ms/step - loss: 0.1609 - accuracy: 0.9446\n",
      "Epoch 12/20\n",
      "313/312 [==============================] - 1s 3ms/step - loss: 0.1552 - accuracy: 0.9430\n",
      "Epoch 13/20\n",
      "313/312 [==============================] - 1s 3ms/step - loss: 0.1614 - accuracy: 0.9427\n",
      "Epoch 14/20\n",
      "313/312 [==============================] - 1s 3ms/step - loss: 0.1596 - accuracy: 0.9447\n",
      "Epoch 15/20\n",
      "313/312 [==============================] - 1s 3ms/step - loss: 0.1551 - accuracy: 0.9427\n",
      "Epoch 16/20\n",
      "313/312 [==============================] - 1s 3ms/step - loss: 0.1591 - accuracy: 0.9437\n",
      "Epoch 17/20\n",
      "313/312 [==============================] - 1s 3ms/step - loss: 0.1424 - accuracy: 0.9502\n",
      "Epoch 18/20\n",
      "313/312 [==============================] - 1s 3ms/step - loss: 0.1423 - accuracy: 0.9492\n",
      "Epoch 19/20\n",
      "313/312 [==============================] - 1s 3ms/step - loss: 0.1495 - accuracy: 0.9470\n",
      "Epoch 20/20\n",
      "313/312 [==============================] - 1s 3ms/step - loss: 0.1402 - accuracy: 0.9495\n"
     ]
    },
    {
     "data": {
      "text/plain": [
       "<tensorflow.python.keras.callbacks.History at 0x7f1f8454b610>"
      ]
     },
     "execution_count": 46,
     "metadata": {},
     "output_type": "execute_result"
    }
   ],
   "source": [
    "model.fit_generator(\n",
    "    generator=sample_generator(batch_size),\n",
    "    steps_per_epoch=10_000 / batch_size,\n",
    "    epochs=20,\n",
    "    max_queue_size=10\n",
    ")"
   ]
  },
  {
   "cell_type": "code",
   "execution_count": null,
   "metadata": {},
   "outputs": [],
   "source": []
  }
 ],
 "metadata": {
  "kernelspec": {
   "display_name": "deep37",
   "language": "python",
   "name": "deep37"
  },
  "language_info": {
   "codemirror_mode": {
    "name": "ipython",
    "version": 3
   },
   "file_extension": ".py",
   "mimetype": "text/x-python",
   "name": "python",
   "nbconvert_exporter": "python",
   "pygments_lexer": "ipython3",
   "version": "3.7.7"
  }
 },
 "nbformat": 4,
 "nbformat_minor": 4
}
