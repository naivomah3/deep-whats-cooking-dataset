{
 "cells": [
  {
   "cell_type": "markdown",
   "metadata": {},
   "source": [
    "## Neural-Net for Tabular data\n",
    "### <u>Problem statement 4:</u> Ordered variable features\n",
    "The following dataset is a synthetic dataset generated from `make_classification`. <br>\n",
    "In this case, each datapoint has an ordered set of features. We assume someone will default loans based on monthly stipend so in that we consider the chronological order of the month. "
   ]
  },
  {
   "cell_type": "code",
   "execution_count": 2,
   "metadata": {},
   "outputs": [],
   "source": [
    "from sklearn.datasets import make_classification"
   ]
  },
  {
   "cell_type": "code",
   "execution_count": 4,
   "metadata": {},
   "outputs": [
    {
     "data": {
      "text/plain": [
       "((10000, 30), (10000,))"
      ]
     },
     "execution_count": 4,
     "metadata": {},
     "output_type": "execute_result"
    }
   ],
   "source": [
    "base_dataset = make_classification(\n",
    "    n_samples=10_000, \n",
    "    n_features=30, \n",
    "    n_informative=10,\n",
    "    n_clusters_per_class=2,\n",
    "    n_classes=4)\n",
    "\n",
    "X, y = base_dataset\n",
    "\n",
    "X.shape, y.shape"
   ]
  },
  {
   "cell_type": "code",
   "execution_count": 5,
   "metadata": {},
   "outputs": [],
   "source": [
    "from sklearn.preprocessing import StandardScaler\n",
    "\n",
    "scaler = StandardScaler()\n",
    "X_scaled = scaler.fit_transform(X)"
   ]
  },
  {
   "cell_type": "code",
   "execution_count": 7,
   "metadata": {},
   "outputs": [],
   "source": [
    "base_classes = []\n",
    "\n",
    "for i in range(4):\n",
    "    base_classes.append(X_scaled[y == i])"
   ]
  },
  {
   "cell_type": "code",
   "execution_count": 9,
   "metadata": {},
   "outputs": [],
   "source": [
    "import numpy as np\n",
    "\n",
    "num_points = 5_000\n",
    "class1_dist = np.array([.5, .5, 0, 0])\n",
    "class2_dist = np.array([0, .2, .6, .2])\n",
    "\n",
    "def make_var_len_feature_point(dist):\n",
    "    sequence_dist = dist.copy()\n",
    "    \n",
    "    feature_sets = []\n",
    "    previous_feature_set = np.zeros((1, 30))\n",
    "    num_features = np.random.randint(3, 11)\n",
    "    for i in range(num_features):\n",
    "        # choose which distribution the transaction comes from\n",
    "        base_class = np.random.choice([0, 1, 2, 3], 1, p=sequence_dist)\n",
    "        base_class_points = base_classes[base_class[0]]\n",
    "        feature_set_idx = np.random.choice(base_class_points.shape[0], 1)\n",
    "        previous_feature_set += base_class_points[feature_set_idx]\n",
    "        feature_sets.append(previous_feature_set)\n",
    "        \n",
    "        # now make it more likely to come from the same dist\n",
    "        dist_update = np.zeros([4]); dist_update[base_class] = 1\n",
    "        sequence_dist += dist_update\n",
    "        sequence_dist = sequence_dist / sequence_dist.sum()\n",
    "\n",
    "        \n",
    "    for _ in range(10 - num_features):\n",
    "        feature_sets.append(np.zeros((1, 30)))\n",
    "\n",
    "    return np.concatenate(feature_sets)[np.newaxis, :, :]\n",
    "\n",
    "\n",
    "class1_points = []\n",
    "for _ in range(num_points):\n",
    "    class1_points.append(\n",
    "        make_var_len_feature_point(class1_dist))\n",
    "class1_points = np.concatenate(class1_points)\n",
    "    \n",
    "class2_points = []\n",
    "for _ in range(num_points):\n",
    "    class2_points.append(\n",
    "        make_var_len_feature_point(class2_dist))\n",
    "class2_points = np.concatenate(class2_points)"
   ]
  },
  {
   "cell_type": "code",
   "execution_count": 10,
   "metadata": {},
   "outputs": [
    {
     "data": {
      "text/plain": [
       "((5000, 10, 30), (5000, 10, 30))"
      ]
     },
     "execution_count": 10,
     "metadata": {},
     "output_type": "execute_result"
    }
   ],
   "source": [
    "class2_points.shape, class1_points.shape "
   ]
  },
  {
   "cell_type": "code",
   "execution_count": 12,
   "metadata": {},
   "outputs": [],
   "source": [
    "def sample_generator(batch_size):\n",
    "    while True:\n",
    "        batch_idx = np.random.choice(\n",
    "            class1_points.shape[0], batch_size // 2)\n",
    "        batch_x = np.concatenate([\n",
    "            class1_points[batch_idx],\n",
    "            class2_points[batch_idx],\n",
    "        ])\n",
    "        batch_y = np.concatenate([\n",
    "            np.zeros(batch_size // 2),\n",
    "            np.ones(batch_size // 2),\n",
    "        ])\n",
    "        yield ({'num_inputs': batch_x}, \n",
    "               {'output': batch_y})"
   ]
  },
  {
   "cell_type": "code",
   "execution_count": 16,
   "metadata": {},
   "outputs": [],
   "source": [
    "from tensorflow.keras.layers import (Input, Dropout, Dense, \n",
    "                                     BatchNormalization, Concatenate, \n",
    "                                     Activation, RepeatVector, \n",
    "                                     Bidirectional, GRU\n",
    "                                    )\n",
    "from tensorflow.keras.models import Model\n",
    "\n",
    "# Dropout probability \n",
    "p = .1\n",
    "batch_size = 32"
   ]
  },
  {
   "cell_type": "code",
   "execution_count": 17,
   "metadata": {},
   "outputs": [],
   "source": [
    "# The feature order is taken in consideration by the use of RNN \n",
    "# in particular a GRU(Gated Reccurent Unit) which is wrapped in Biderectional \n",
    "# layer to spot the relation from both ends. \n",
    "inputs = Input((10, 30), name='num_inputs')\n",
    "\n",
    "x = Dropout(p)(inputs)\n",
    "x = Bidirectional( GRU(10) )(x)\n",
    "x = BatchNormalization()(x)\n",
    "\n",
    "#--- SKIP-CONNECTION(Concatenation): appending the global context to the local context.   \n",
    "#--- Combine the extracted features which held the global information\n",
    "#--- of the 10 different credit cards records to the inputs \n",
    "x = RepeatVector(10)(x)\n",
    "x = Concatenate()([inputs, x])\n",
    "\n",
    "x = Dropout(p)(x)\n",
    "x = Bidirectional( GRU(10) )(x)\n",
    "x = BatchNormalization()(x)\n",
    "\n",
    "#---- Dense Layers -----\n",
    "x = Dropout(p)(x)\n",
    "x = Dense(100, activation='relu')(x)\n",
    "\n",
    "x = BatchNormalization()(x)\n",
    "x = Dropout(p)(x)\n",
    "x = Dense(20, activation='relu')(x)\n",
    "\n",
    "x = BatchNormalization()(x)\n",
    "x = Dropout(p)(x)\n",
    "x = Dense(10, activation='relu')(x)\n",
    "\n",
    "x = BatchNormalization()(x)\n",
    "x = Dropout(p)(x)\n",
    "\n",
    "#------ Output -------\n",
    "out = Dense(1, activation='sigmoid', name='output')(x)\n",
    "\n"
   ]
  },
  {
   "cell_type": "code",
   "execution_count": 19,
   "metadata": {},
   "outputs": [
    {
     "name": "stdout",
     "output_type": "stream",
     "text": [
      "[(None, 10, 30)]\n",
      "(None, 10, 30)\n",
      "(None, 20)\n",
      "(None, 20)\n",
      "(None, 10, 20)\n",
      "(None, 10, 50)\n",
      "(None, 10, 50)\n",
      "(None, 20)\n",
      "(None, 20)\n",
      "(None, 20)\n",
      "(None, 100)\n",
      "(None, 100)\n",
      "(None, 100)\n",
      "(None, 20)\n",
      "(None, 20)\n",
      "(None, 20)\n",
      "(None, 10)\n",
      "(None, 10)\n",
      "(None, 10)\n",
      "(None, 1)\n"
     ]
    }
   ],
   "source": [
    "model = Model(inputs=inputs, outputs=out)\n",
    "\n",
    "for layer in model.layers:\n",
    "    print(layer.output_shape)"
   ]
  },
  {
   "cell_type": "code",
   "execution_count": 21,
   "metadata": {},
   "outputs": [
    {
     "name": "stdout",
     "output_type": "stream",
     "text": [
      "Model: \"model_1\"\n",
      "__________________________________________________________________________________________________\n",
      "Layer (type)                    Output Shape         Param #     Connected to                     \n",
      "==================================================================================================\n",
      "num_inputs (InputLayer)         [(None, 10, 30)]     0                                            \n",
      "__________________________________________________________________________________________________\n",
      "dropout_6 (Dropout)             (None, 10, 30)       0           num_inputs[0][0]                 \n",
      "__________________________________________________________________________________________________\n",
      "bidirectional_2 (Bidirectional) (None, 20)           2520        dropout_6[0][0]                  \n",
      "__________________________________________________________________________________________________\n",
      "batch_normalization_v2_5 (Batch (None, 20)           80          bidirectional_2[0][0]            \n",
      "__________________________________________________________________________________________________\n",
      "repeat_vector_1 (RepeatVector)  (None, 10, 20)       0           batch_normalization_v2_5[0][0]   \n",
      "__________________________________________________________________________________________________\n",
      "concatenate_1 (Concatenate)     (None, 10, 50)       0           num_inputs[0][0]                 \n",
      "                                                                 repeat_vector_1[0][0]            \n",
      "__________________________________________________________________________________________________\n",
      "dropout_7 (Dropout)             (None, 10, 50)       0           concatenate_1[0][0]              \n",
      "__________________________________________________________________________________________________\n",
      "bidirectional_3 (Bidirectional) (None, 20)           3720        dropout_7[0][0]                  \n",
      "__________________________________________________________________________________________________\n",
      "batch_normalization_v2_6 (Batch (None, 20)           80          bidirectional_3[0][0]            \n",
      "__________________________________________________________________________________________________\n",
      "dropout_8 (Dropout)             (None, 20)           0           batch_normalization_v2_6[0][0]   \n",
      "__________________________________________________________________________________________________\n",
      "dense_3 (Dense)                 (None, 100)          2100        dropout_8[0][0]                  \n",
      "__________________________________________________________________________________________________\n",
      "batch_normalization_v2_7 (Batch (None, 100)          400         dense_3[0][0]                    \n",
      "__________________________________________________________________________________________________\n",
      "dropout_9 (Dropout)             (None, 100)          0           batch_normalization_v2_7[0][0]   \n",
      "__________________________________________________________________________________________________\n",
      "dense_4 (Dense)                 (None, 20)           2020        dropout_9[0][0]                  \n",
      "__________________________________________________________________________________________________\n",
      "batch_normalization_v2_8 (Batch (None, 20)           80          dense_4[0][0]                    \n",
      "__________________________________________________________________________________________________\n",
      "dropout_10 (Dropout)            (None, 20)           0           batch_normalization_v2_8[0][0]   \n",
      "__________________________________________________________________________________________________\n",
      "dense_5 (Dense)                 (None, 10)           210         dropout_10[0][0]                 \n",
      "__________________________________________________________________________________________________\n",
      "batch_normalization_v2_9 (Batch (None, 10)           40          dense_5[0][0]                    \n",
      "__________________________________________________________________________________________________\n",
      "dropout_11 (Dropout)            (None, 10)           0           batch_normalization_v2_9[0][0]   \n",
      "__________________________________________________________________________________________________\n",
      "output (Dense)                  (None, 1)            11          dropout_11[0][0]                 \n",
      "==================================================================================================\n",
      "Total params: 11,261\n",
      "Trainable params: 10,921\n",
      "Non-trainable params: 340\n",
      "__________________________________________________________________________________________________\n"
     ]
    }
   ],
   "source": [
    "model.compile(optimizer='rmsprop',\n",
    "             loss='binary_crossentropy', \n",
    "             metrics=['accuracy'])\n",
    "model.summary()"
   ]
  },
  {
   "cell_type": "code",
   "execution_count": 22,
   "metadata": {},
   "outputs": [
    {
     "name": "stdout",
     "output_type": "stream",
     "text": [
      "Epoch 1/20\n",
      "313/312 [==============================] - 11s 36ms/step - loss: 0.5853 - accuracy: 0.6987\n",
      "Epoch 2/20\n",
      "313/312 [==============================] - 4s 12ms/step - loss: 0.4608 - accuracy: 0.7846\n",
      "Epoch 3/20\n",
      "313/312 [==============================] - 5s 15ms/step - loss: 0.4215 - accuracy: 0.8027\n",
      "Epoch 4/20\n",
      "313/312 [==============================] - 6s 19ms/step - loss: 0.3930 - accuracy: 0.8218\n",
      "Epoch 5/20\n",
      "313/312 [==============================] - 6s 19ms/step - loss: 0.3868 - accuracy: 0.8226\n",
      "Epoch 6/20\n",
      "313/312 [==============================] - 6s 19ms/step - loss: 0.3748 - accuracy: 0.8323\n",
      "Epoch 7/20\n",
      "313/312 [==============================] - 6s 20ms/step - loss: 0.3607 - accuracy: 0.8360\n",
      "Epoch 8/20\n",
      "313/312 [==============================] - 6s 20ms/step - loss: 0.3545 - accuracy: 0.8390\n",
      "Epoch 9/20\n",
      "313/312 [==============================] - 6s 21ms/step - loss: 0.3415 - accuracy: 0.8496\n",
      "Epoch 10/20\n",
      "313/312 [==============================] - 6s 21ms/step - loss: 0.3415 - accuracy: 0.8450\n",
      "Epoch 11/20\n",
      "313/312 [==============================] - 7s 21ms/step - loss: 0.3353 - accuracy: 0.8509\n",
      "Epoch 12/20\n",
      "313/312 [==============================] - 5s 15ms/step - loss: 0.3283 - accuracy: 0.8558\n",
      "Epoch 13/20\n",
      "313/312 [==============================] - 5s 16ms/step - loss: 0.3238 - accuracy: 0.8532\n",
      "Epoch 14/20\n",
      "313/312 [==============================] - 5s 15ms/step - loss: 0.3158 - accuracy: 0.8596\n",
      "Epoch 15/20\n",
      "313/312 [==============================] - 5s 15ms/step - loss: 0.3067 - accuracy: 0.8648\n",
      "Epoch 16/20\n",
      "313/312 [==============================] - 5s 15ms/step - loss: 0.3102 - accuracy: 0.8609\n",
      "Epoch 17/20\n",
      "313/312 [==============================] - 5s 15ms/step - loss: 0.3118 - accuracy: 0.8580\n",
      "Epoch 18/20\n",
      "313/312 [==============================] - 5s 15ms/step - loss: 0.2961 - accuracy: 0.8684\n",
      "Epoch 19/20\n",
      "313/312 [==============================] - 5s 17ms/step - loss: 0.3076 - accuracy: 0.8640\n",
      "Epoch 20/20\n",
      "313/312 [==============================] - 5s 16ms/step - loss: 0.2924 - accuracy: 0.8700\n"
     ]
    },
    {
     "data": {
      "text/plain": [
       "<tensorflow.python.keras.callbacks.History at 0x7f3694542190>"
      ]
     },
     "execution_count": 22,
     "metadata": {},
     "output_type": "execute_result"
    }
   ],
   "source": [
    "model.fit_generator(\n",
    "    sample_generator(batch_size),\n",
    "    steps_per_epoch=10_000 / batch_size,\n",
    "    epochs=20,\n",
    "    max_queue_size=10\n",
    ")"
   ]
  }
 ],
 "metadata": {
  "kernelspec": {
   "display_name": "deep37",
   "language": "python",
   "name": "deep37"
  },
  "language_info": {
   "codemirror_mode": {
    "name": "ipython",
    "version": 3
   },
   "file_extension": ".py",
   "mimetype": "text/x-python",
   "name": "python",
   "nbconvert_exporter": "python",
   "pygments_lexer": "ipython3",
   "version": "3.7.7"
  }
 },
 "nbformat": 4,
 "nbformat_minor": 4
}
