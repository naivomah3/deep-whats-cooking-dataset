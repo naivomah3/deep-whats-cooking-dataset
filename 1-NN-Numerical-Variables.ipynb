{
 "cells": [
  {
   "cell_type": "markdown",
   "metadata": {},
   "source": [
    "## Neural-Net for Tabular data\n",
    "### <u>Problem statement 1:</u>\n",
    "All variable is numeric and has been standard-scaled before feeding the network \n"
   ]
  },
  {
   "cell_type": "code",
   "execution_count": 2,
   "metadata": {},
   "outputs": [],
   "source": [
    "from sklearn.datasets import make_classification"
   ]
  },
  {
   "cell_type": "code",
   "execution_count": 8,
   "metadata": {},
   "outputs": [
    {
     "data": {
      "text/plain": [
       "(array([[-0.53898376,  0.70053943,  0.77226027, ..., -0.09059429,\n",
       "         -0.10256324, -1.04117343],\n",
       "        [ 0.83254492, -1.3924715 ,  0.20352987, ..., -0.24267101,\n",
       "          0.75559209, -0.83962413],\n",
       "        [-1.40464946, -1.55728954, -0.71218089, ..., -0.11923119,\n",
       "         -1.06930379,  1.93743957],\n",
       "        ...,\n",
       "        [-0.07888857, -0.20290792, -1.20677686, ..., -0.41176169,\n",
       "         -1.7414205 , -0.32837366],\n",
       "        [-0.23593006, -0.41885696,  0.95705918, ..., -1.49722263,\n",
       "          1.37622583, -1.26975741],\n",
       "        [-0.26285113,  0.73233412, -1.33325421, ...,  1.19083779,\n",
       "         -1.75681686, -1.06860872]]), array([1, 1, 0, ..., 0, 1, 0]))"
      ]
     },
     "execution_count": 8,
     "metadata": {},
     "output_type": "execute_result"
    }
   ],
   "source": [
    "# Binary Classification Dataset \n",
    "# 20: Numerical\n",
    "dataset = make_classification(n_samples=10_000, n_features=20, n_classes=2)\n",
    "X, Y = dataset\n",
    "X, Y"
   ]
  },
  {
   "cell_type": "code",
   "execution_count": 12,
   "metadata": {},
   "outputs": [],
   "source": [
    "from sklearn.preprocessing import StandardScaler\n",
    "\n",
    "scaler = StandardScaler()\n",
    "X_scaled = scaler.fit_transform(X)"
   ]
  },
  {
   "cell_type": "code",
   "execution_count": 33,
   "metadata": {},
   "outputs": [],
   "source": [
    "from tensorflow.keras.layers import Input, Dropout, Dense, BatchNormalization \n",
    "from tensorflow.keras.models import Model\n",
    "# Dropout probability \n",
    "p = .1\n",
    "batch_size = 32"
   ]
  },
  {
   "cell_type": "markdown",
   "metadata": {},
   "source": [
    "#### __*NN components:*__\n",
    "1. Standardizer/Normalizer(used to avoid overshooting the convergence of the GD)\n",
    "2. (Optional) Regularize/Dropout\n",
    "3. Dense Layer(Non-Linear Tranformation)\n"
   ]
  },
  {
   "cell_type": "code",
   "execution_count": 26,
   "metadata": {},
   "outputs": [],
   "source": [
    "#===== Input\n",
    "outputs = Input((20,), name='inputs')\n",
    "#===== L0\n",
    "x = Dropout(p)(inputs)\n",
    "x = Dense(100, activation='relu')(x)\n",
    "#===== L1\n",
    "x = BatchNormalization()(x)\n",
    "x = Dropout(p)(x)\n",
    "x = Dense(20, activation='relu')(x)\n",
    "#===== L2\n",
    "x = BatchNormalization()(x)\n",
    "x = Dropout(p)(x)\n",
    "x = Dense(10, activation='relu')(x)\n",
    "#===== L3\n",
    "x = BatchNormalization()(x)\n",
    "x = Dropout(p)(x)\n",
    "#===== Output\n",
    "out = Dense(1, activation='sigmoid', name='output')(x)"
   ]
  },
  {
   "cell_type": "code",
   "execution_count": 29,
   "metadata": {},
   "outputs": [],
   "source": [
    "model = Model(inputs=inputs, outputs=out)\n",
    "model.compile(optimizer='rmsprop',\n",
    "             loss='binary_crossentropy', \n",
    "             metrics=['accuracy'])"
   ]
  },
  {
   "cell_type": "code",
   "execution_count": 30,
   "metadata": {},
   "outputs": [
    {
     "name": "stdout",
     "output_type": "stream",
     "text": [
      "Model: \"model_2\"\n",
      "_________________________________________________________________\n",
      "Layer (type)                 Output Shape              Param #   \n",
      "=================================================================\n",
      "inputs (InputLayer)          [(None, 20)]              0         \n",
      "_________________________________________________________________\n",
      "dropout_9 (Dropout)          (None, 20)                0         \n",
      "_________________________________________________________________\n",
      "dense_6 (Dense)              (None, 100)               2100      \n",
      "_________________________________________________________________\n",
      "batch_normalization_v2_6 (Ba (None, 100)               400       \n",
      "_________________________________________________________________\n",
      "dropout_10 (Dropout)         (None, 100)               0         \n",
      "_________________________________________________________________\n",
      "dense_7 (Dense)              (None, 20)                2020      \n",
      "_________________________________________________________________\n",
      "batch_normalization_v2_7 (Ba (None, 20)                80        \n",
      "_________________________________________________________________\n",
      "dropout_11 (Dropout)         (None, 20)                0         \n",
      "_________________________________________________________________\n",
      "dense_8 (Dense)              (None, 10)                210       \n",
      "_________________________________________________________________\n",
      "batch_normalization_v2_8 (Ba (None, 10)                40        \n",
      "_________________________________________________________________\n",
      "dropout_12 (Dropout)         (None, 10)                0         \n",
      "_________________________________________________________________\n",
      "output (Dense)               (None, 1)                 11        \n",
      "=================================================================\n",
      "Total params: 4,861\n",
      "Trainable params: 4,601\n",
      "Non-trainable params: 260\n",
      "_________________________________________________________________\n"
     ]
    }
   ],
   "source": [
    "model.summary()"
   ]
  },
  {
   "cell_type": "code",
   "execution_count": 32,
   "metadata": {},
   "outputs": [],
   "source": [
    "import numpy as np \n",
    "\n",
    "def sample_generator(batch_size):\n",
    "    while True:\n",
    "        batch_idx = np.random.choice(X_scaled.shape[0], batch_size)\n",
    "        yield (\n",
    "            {'inputs': X_scaled[batch_idx]},\n",
    "            {'output': Y[batch_idx]}\n",
    "        )"
   ]
  },
  {
   "cell_type": "code",
   "execution_count": 34,
   "metadata": {},
   "outputs": [
    {
     "name": "stdout",
     "output_type": "stream",
     "text": [
      "Epoch 1/5\n",
      "312/312 [==============================] - 4s 12ms/step - loss: 0.3410 - accuracy: 0.8561\n",
      "Epoch 2/5\n",
      "312/312 [==============================] - 1s 3ms/step - loss: 0.2650 - accuracy: 0.8926\n",
      "Epoch 3/5\n",
      "312/312 [==============================] - 1s 3ms/step - loss: 0.2455 - accuracy: 0.9064\n",
      "Epoch 4/5\n",
      "312/312 [==============================] - 1s 3ms/step - loss: 0.2525 - accuracy: 0.9018\n",
      "Epoch 5/5\n",
      "312/312 [==============================] - 1s 3ms/step - loss: 0.2370 - accuracy: 0.9066\n"
     ]
    },
    {
     "data": {
      "text/plain": [
       "<tensorflow.python.keras.callbacks.History at 0x7fa6a8478650>"
      ]
     },
     "execution_count": 34,
     "metadata": {},
     "output_type": "execute_result"
    }
   ],
   "source": [
    "model.fit_generator(\n",
    "    generator=sample_generator(batch_size),\n",
    "    steps_per_epoch=10_000 // batch_size,\n",
    "    epochs=5,\n",
    "    max_queue_size=10\n",
    ")"
   ]
  }
 ],
 "metadata": {
  "kernelspec": {
   "display_name": "deep37",
   "language": "python",
   "name": "deep37"
  },
  "language_info": {
   "codemirror_mode": {
    "name": "ipython",
    "version": 3
   },
   "file_extension": ".py",
   "mimetype": "text/x-python",
   "name": "python",
   "nbconvert_exporter": "python",
   "pygments_lexer": "ipython3",
   "version": "3.7.7"
  }
 },
 "nbformat": 4,
 "nbformat_minor": 4
}
